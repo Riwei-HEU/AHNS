{
 "cells": [
  {
   "cell_type": "code",
   "execution_count": 1,
   "metadata": {},
   "outputs": [],
   "source": [
    "import gzip\n",
    "from collections import defaultdict\n",
    "from datetime import datetime"
   ]
  },
  {
   "cell_type": "code",
   "execution_count": 2,
   "metadata": {},
   "outputs": [],
   "source": [
    "def parse(path):\n",
    "    g = gzip.open(path, 'r')\n",
    "    for l in g:\n",
    "        yield eval(l)"
   ]
  },
  {
   "cell_type": "code",
   "execution_count": 3,
   "metadata": {},
   "outputs": [],
   "source": [
    "dataset_path = ''\n",
    "dataset_name = 'Sports_and_Outdoors_5'"
   ]
  },
  {
   "cell_type": "code",
   "execution_count": 4,
   "metadata": {},
   "outputs": [],
   "source": [
    "countU = defaultdict(int)\n",
    "countI = defaultdict(int)\n",
    "\n",
    "for l in parse(dataset_path + 'reviews_'+ dataset_name +'.json.gz'):\n",
    "    asin = l['asin']\n",
    "    rev = l['reviewerID']\n",
    "    \n",
    "    countU[rev] += 1\n",
    "    countI[asin] += 1"
   ]
  },
  {
   "cell_type": "code",
   "execution_count": 5,
   "metadata": {},
   "outputs": [],
   "source": [
    "usermap = dict()\n",
    "usernum = 0\n",
    "itemmap = dict()\n",
    "itemnum = 0\n",
    "\n",
    "User = dict()\n",
    "Item = dict()\n",
    "\n",
    "for l in parse(dataset_path + 'reviews_'+ dataset_name +'.json.gz'):\n",
    "    asin = l['asin']\n",
    "    rev = l['reviewerID']\n",
    "    time = datetime.fromtimestamp(l['unixReviewTime']).__format__('%Y%m%d')\n",
    "    \n",
    "    if rev in usermap: userid = usermap[rev]\n",
    "    else:\n",
    "        userid = usernum\n",
    "        usernum += 1\n",
    "        usermap[rev] = userid\n",
    "        User[userid] = []\n",
    "    \n",
    "    if asin in itemmap: itemid = itemmap[asin]\n",
    "    else:\n",
    "        itemid = itemnum\n",
    "        itemnum += 1\n",
    "        itemmap[asin] = itemid\n",
    "        Item[itemid] = []\n",
    "    \n",
    "    \n",
    "    User[userid].append(itemid)\n",
    "    Item[itemid].append(userid)"
   ]
  },
  {
   "cell_type": "code",
   "execution_count": 6,
   "metadata": {},
   "outputs": [
    {
     "data": {
      "text/plain": [
       "35598"
      ]
     },
     "execution_count": 6,
     "metadata": {},
     "output_type": "execute_result"
    }
   ],
   "source": [
    "usernum"
   ]
  },
  {
   "cell_type": "code",
   "execution_count": 7,
   "metadata": {},
   "outputs": [
    {
     "data": {
      "text/plain": [
       "18357"
      ]
     },
     "execution_count": 7,
     "metadata": {},
     "output_type": "execute_result"
    }
   ],
   "source": [
    "itemnum"
   ]
  },
  {
   "cell_type": "code",
   "execution_count": 8,
   "metadata": {},
   "outputs": [
    {
     "data": {
      "text/plain": [
       "296337"
      ]
     },
     "execution_count": 8,
     "metadata": {},
     "output_type": "execute_result"
    }
   ],
   "source": [
    "num_int = 0\n",
    "for k,v in User.items():\n",
    "    num_int += len(v)\n",
    "\n",
    "num_int"
   ]
  },
  {
   "cell_type": "code",
   "execution_count": 9,
   "metadata": {},
   "outputs": [
    {
     "data": {
      "text/plain": [
       "0.045348045456958995"
      ]
     },
     "execution_count": 9,
     "metadata": {},
     "output_type": "execute_result"
    }
   ],
   "source": [
    "num_int / (usernum * itemnum) * 100"
   ]
  },
  {
   "cell_type": "code",
   "execution_count": 16,
   "metadata": {},
   "outputs": [
    {
     "data": {
      "text/plain": [
       "8.324540704533963"
      ]
     },
     "execution_count": 16,
     "metadata": {},
     "output_type": "execute_result"
    }
   ],
   "source": [
    "296337 / 35598"
   ]
  },
  {
   "cell_type": "code",
   "execution_count": 10,
   "metadata": {},
   "outputs": [],
   "source": [
    "import random\n",
    "\n",
    "User_train = defaultdict(list)\n",
    "User_test = defaultdict(list)\n",
    "\n",
    "for k,v in User.items():\n",
    "    for i in v:\n",
    "        t = random.random()\n",
    "        if t < 0.8:\n",
    "            User_train[k].append(i)\n",
    "        else:\n",
    "            User_test[k].append(i)"
   ]
  },
  {
   "cell_type": "code",
   "execution_count": 11,
   "metadata": {},
   "outputs": [
    {
     "data": {
      "text/plain": [
       "236918"
      ]
     },
     "execution_count": 11,
     "metadata": {},
     "output_type": "execute_result"
    }
   ],
   "source": [
    "num_tr = 0\n",
    "for k,v in User_train.items():\n",
    "    num_tr += len(v)\n",
    "num_tr"
   ]
  },
  {
   "cell_type": "code",
   "execution_count": 12,
   "metadata": {},
   "outputs": [
    {
     "data": {
      "text/plain": [
       "59419"
      ]
     },
     "execution_count": 12,
     "metadata": {},
     "output_type": "execute_result"
    }
   ],
   "source": [
    "num_ts = 0\n",
    "for k,v in User_test.items():\n",
    "    num_ts += len(v)\n",
    "num_ts"
   ]
  },
  {
   "cell_type": "code",
   "execution_count": 13,
   "metadata": {},
   "outputs": [
    {
     "data": {
      "text/plain": [
       "0.20051157972173572"
      ]
     },
     "execution_count": 13,
     "metadata": {},
     "output_type": "execute_result"
    }
   ],
   "source": [
    "# 训练集测试集占比\n",
    "num_ts / (num_tr + num_ts)"
   ]
  },
  {
   "cell_type": "code",
   "execution_count": 14,
   "metadata": {},
   "outputs": [],
   "source": [
    "path = './sport/train.txt'\n",
    "f = open(path, 'w')\n",
    "\n",
    "for u, i in User_train.items():\n",
    "    f.write(str(u))\n",
    "    for n in i:\n",
    "        f.write(\" \" + str(n))\n",
    "    f.write('\\n')\n",
    "\n",
    "f.close()"
   ]
  },
  {
   "cell_type": "code",
   "execution_count": 15,
   "metadata": {},
   "outputs": [],
   "source": [
    "path = './sport/test.txt'\n",
    "f = open(path, 'w')\n",
    "\n",
    "for u, i in User_test.items():\n",
    "    f.write(str(u))\n",
    "    for n in i:\n",
    "        f.write(\" \" + str(n))\n",
    "    f.write('\\n')\n",
    "\n",
    "f.close()"
   ]
  },
  {
   "cell_type": "code",
   "execution_count": null,
   "metadata": {},
   "outputs": [],
   "source": []
  }
 ],
 "metadata": {
  "kernelspec": {
   "display_name": "Python 3",
   "language": "python",
   "name": "python3"
  },
  "language_info": {
   "codemirror_mode": {
    "name": "ipython",
    "version": 3
   },
   "file_extension": ".py",
   "mimetype": "text/x-python",
   "name": "python",
   "nbconvert_exporter": "python",
   "pygments_lexer": "ipython3",
   "version": "3.8.3"
  }
 },
 "nbformat": 4,
 "nbformat_minor": 4
}
